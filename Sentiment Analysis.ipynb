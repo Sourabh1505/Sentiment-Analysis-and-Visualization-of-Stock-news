{
 "cells": [
  {
   "cell_type": "code",
   "execution_count": 1,
   "id": "dcd48baa",
   "metadata": {},
   "outputs": [],
   "source": [
    "from urllib.request import urlopen,Request\n",
    "from bs4 import BeautifulSoup\n",
    "from nltk.sentiment.vader import SentimentIntensityAnalyzer\n",
    "import pandas as pd\n",
    "import matplotlib.pyplot as plt"
   ]
  },
  {
   "cell_type": "code",
   "execution_count": 2,
   "id": "7dafba78",
   "metadata": {},
   "outputs": [],
   "source": [
    "finviz_url = \"https://finviz.com/quote.ashx?t=\"\n",
    "tickers = [\"TTM\",\"INFY\",\"WIT\"]"
   ]
  },
  {
   "cell_type": "code",
   "execution_count": 3,
   "id": "5fee0a76",
   "metadata": {},
   "outputs": [],
   "source": [
    "news_tables={}\n",
    "for ticker in tickers:\n",
    "    url=finviz_url + ticker\n",
    "    req = Request(url = url, headers={\"user-agent\":\"my-app\"})\n",
    "    response = urlopen(req)\n",
    "    html = BeautifulSoup(response,\"html\")\n",
    "    news_table= html.find(id=\"news-table\")\n",
    "    news_tables[ticker] = news_table\n"
   ]
  },
  {
   "cell_type": "code",
   "execution_count": 4,
   "id": "4e5d200e",
   "metadata": {},
   "outputs": [],
   "source": [
    "parsed_data =[]\n",
    "for ticker,news_table in news_tables.items():\n",
    "    for row in news_table.findAll(\"tr\"):\n",
    "        title = row.a.text\n",
    "        date_data = row.td.text.split(\" \")\n",
    "        if len(date_data) == 1:\n",
    "            time = date_data[0]\n",
    "        else:\n",
    "            date = date_data[0]\n",
    "            time = date_data[1]\n",
    "        parsed_data.append([ticker,date,time,title])"
   ]
  },
  {
   "cell_type": "code",
   "execution_count": 5,
   "id": "75c56102",
   "metadata": {
    "scrolled": true
   },
   "outputs": [
    {
     "data": {
      "text/html": [
       "<div>\n",
       "<style scoped>\n",
       "    .dataframe tbody tr th:only-of-type {\n",
       "        vertical-align: middle;\n",
       "    }\n",
       "\n",
       "    .dataframe tbody tr th {\n",
       "        vertical-align: top;\n",
       "    }\n",
       "\n",
       "    .dataframe thead th {\n",
       "        text-align: right;\n",
       "    }\n",
       "</style>\n",
       "<table border=\"1\" class=\"dataframe\">\n",
       "  <thead>\n",
       "    <tr style=\"text-align: right;\">\n",
       "      <th></th>\n",
       "      <th>ticker</th>\n",
       "      <th>date</th>\n",
       "      <th>time</th>\n",
       "      <th>title</th>\n",
       "    </tr>\n",
       "  </thead>\n",
       "  <tbody>\n",
       "    <tr>\n",
       "      <th>0</th>\n",
       "      <td>TTM</td>\n",
       "      <td>May-13-22</td>\n",
       "      <td>05:53PM</td>\n",
       "      <td>Range Rover Sport to go electric as Jaguar Lan...</td>\n",
       "    </tr>\n",
       "    <tr>\n",
       "      <th>1</th>\n",
       "      <td>TTM</td>\n",
       "      <td>May-13-22</td>\n",
       "      <td>12:25AM</td>\n",
       "      <td>Indian shares track broader Asian stocks highe...</td>\n",
       "    </tr>\n",
       "    <tr>\n",
       "      <th>2</th>\n",
       "      <td>TTM</td>\n",
       "      <td>May-13-22</td>\n",
       "      <td>12:25AM</td>\n",
       "      <td>Indian shares end lower on SBI slump</td>\n",
       "    </tr>\n",
       "    <tr>\n",
       "      <th>3</th>\n",
       "      <td>TTM</td>\n",
       "      <td>May-12-22</td>\n",
       "      <td>07:28AM</td>\n",
       "      <td>UPDATE 2-Tata Motors warns of price and chip r...</td>\n",
       "    </tr>\n",
       "    <tr>\n",
       "      <th>4</th>\n",
       "      <td>TTM</td>\n",
       "      <td>May-11-22</td>\n",
       "      <td>10:47AM</td>\n",
       "      <td>India's Tata Group readying plan for battery c...</td>\n",
       "    </tr>\n",
       "  </tbody>\n",
       "</table>\n",
       "</div>"
      ],
      "text/plain": [
       "  ticker       date       time  \\\n",
       "0    TTM  May-13-22  05:53PM     \n",
       "1    TTM  May-13-22  12:25AM     \n",
       "2    TTM  May-13-22  12:25AM     \n",
       "3    TTM  May-12-22  07:28AM     \n",
       "4    TTM  May-11-22  10:47AM     \n",
       "\n",
       "                                               title  \n",
       "0  Range Rover Sport to go electric as Jaguar Lan...  \n",
       "1  Indian shares track broader Asian stocks highe...  \n",
       "2               Indian shares end lower on SBI slump  \n",
       "3  UPDATE 2-Tata Motors warns of price and chip r...  \n",
       "4  India's Tata Group readying plan for battery c...  "
      ]
     },
     "execution_count": 5,
     "metadata": {},
     "output_type": "execute_result"
    }
   ],
   "source": [
    "df = pd.DataFrame(parsed_data, columns = [\"ticker\",\"date\",\"time\",\"title\"])\n",
    "df.head()"
   ]
  },
  {
   "cell_type": "code",
   "execution_count": 6,
   "id": "62772ca0",
   "metadata": {},
   "outputs": [
    {
     "name": "stdout",
     "output_type": "stream",
     "text": [
      "showing info https://raw.githubusercontent.com/nltk/nltk_data/gh-pages/index.xml\n"
     ]
    },
    {
     "data": {
      "text/plain": [
       "True"
      ]
     },
     "execution_count": 6,
     "metadata": {},
     "output_type": "execute_result"
    }
   ],
   "source": [
    "import nltk\n",
    "nltk.download()"
   ]
  },
  {
   "cell_type": "code",
   "execution_count": 7,
   "id": "227c6653",
   "metadata": {},
   "outputs": [],
   "source": [
    "vader = SentimentIntensityAnalyzer()"
   ]
  },
  {
   "cell_type": "code",
   "execution_count": 8,
   "id": "d206df25",
   "metadata": {},
   "outputs": [],
   "source": [
    "f= lambda title:vader.polarity_scores(title)[\"compound\"]\n",
    "df[\"compound\"]= df[\"title\"].apply(f)"
   ]
  },
  {
   "cell_type": "code",
   "execution_count": 9,
   "id": "7294be49",
   "metadata": {},
   "outputs": [
    {
     "data": {
      "text/html": [
       "<div>\n",
       "<style scoped>\n",
       "    .dataframe tbody tr th:only-of-type {\n",
       "        vertical-align: middle;\n",
       "    }\n",
       "\n",
       "    .dataframe tbody tr th {\n",
       "        vertical-align: top;\n",
       "    }\n",
       "\n",
       "    .dataframe thead th {\n",
       "        text-align: right;\n",
       "    }\n",
       "</style>\n",
       "<table border=\"1\" class=\"dataframe\">\n",
       "  <thead>\n",
       "    <tr style=\"text-align: right;\">\n",
       "      <th></th>\n",
       "      <th>ticker</th>\n",
       "      <th>date</th>\n",
       "      <th>time</th>\n",
       "      <th>title</th>\n",
       "      <th>compound</th>\n",
       "    </tr>\n",
       "  </thead>\n",
       "  <tbody>\n",
       "    <tr>\n",
       "      <th>0</th>\n",
       "      <td>TTM</td>\n",
       "      <td>May-13-22</td>\n",
       "      <td>05:53PM</td>\n",
       "      <td>Range Rover Sport to go electric as Jaguar Lan...</td>\n",
       "      <td>-0.6249</td>\n",
       "    </tr>\n",
       "    <tr>\n",
       "      <th>1</th>\n",
       "      <td>TTM</td>\n",
       "      <td>May-13-22</td>\n",
       "      <td>12:25AM</td>\n",
       "      <td>Indian shares track broader Asian stocks highe...</td>\n",
       "      <td>0.2960</td>\n",
       "    </tr>\n",
       "    <tr>\n",
       "      <th>2</th>\n",
       "      <td>TTM</td>\n",
       "      <td>May-13-22</td>\n",
       "      <td>12:25AM</td>\n",
       "      <td>Indian shares end lower on SBI slump</td>\n",
       "      <td>0.0000</td>\n",
       "    </tr>\n",
       "    <tr>\n",
       "      <th>3</th>\n",
       "      <td>TTM</td>\n",
       "      <td>May-12-22</td>\n",
       "      <td>07:28AM</td>\n",
       "      <td>UPDATE 2-Tata Motors warns of price and chip r...</td>\n",
       "      <td>-0.0516</td>\n",
       "    </tr>\n",
       "    <tr>\n",
       "      <th>4</th>\n",
       "      <td>TTM</td>\n",
       "      <td>May-11-22</td>\n",
       "      <td>10:47AM</td>\n",
       "      <td>India's Tata Group readying plan for battery c...</td>\n",
       "      <td>0.0000</td>\n",
       "    </tr>\n",
       "  </tbody>\n",
       "</table>\n",
       "</div>"
      ],
      "text/plain": [
       "  ticker       date       time  \\\n",
       "0    TTM  May-13-22  05:53PM     \n",
       "1    TTM  May-13-22  12:25AM     \n",
       "2    TTM  May-13-22  12:25AM     \n",
       "3    TTM  May-12-22  07:28AM     \n",
       "4    TTM  May-11-22  10:47AM     \n",
       "\n",
       "                                               title  compound  \n",
       "0  Range Rover Sport to go electric as Jaguar Lan...   -0.6249  \n",
       "1  Indian shares track broader Asian stocks highe...    0.2960  \n",
       "2               Indian shares end lower on SBI slump    0.0000  \n",
       "3  UPDATE 2-Tata Motors warns of price and chip r...   -0.0516  \n",
       "4  India's Tata Group readying plan for battery c...    0.0000  "
      ]
     },
     "execution_count": 9,
     "metadata": {},
     "output_type": "execute_result"
    }
   ],
   "source": [
    "df.head()"
   ]
  },
  {
   "cell_type": "code",
   "execution_count": 25,
   "id": "427ee6b5",
   "metadata": {},
   "outputs": [],
   "source": [
    "df[\"date\"]=pd.to_datetime(df.date)"
   ]
  },
  {
   "cell_type": "code",
   "execution_count": 26,
   "id": "ae6f6a9b",
   "metadata": {},
   "outputs": [],
   "source": [
    "df[\"month\"]=df[\"date\"].dt.month"
   ]
  },
  {
   "cell_type": "code",
   "execution_count": 28,
   "id": "83e73ed7",
   "metadata": {},
   "outputs": [],
   "source": [
    "df[\"year\"]=df[\"date\"].dt.year"
   ]
  },
  {
   "cell_type": "code",
   "execution_count": 31,
   "id": "9cbe11ab",
   "metadata": {},
   "outputs": [
    {
     "data": {
      "text/plain": [
       "<function matplotlib.pyplot.show(close=None, block=None)>"
      ]
     },
     "execution_count": 31,
     "metadata": {},
     "output_type": "execute_result"
    },
    {
     "data": {
      "image/png": "[encoded data removed]",
      "text/plain": [
       "<Figure size 720x720 with 1 Axes>"
      ]
     },
     "metadata": {
      "needs_background": "light"
     },
     "output_type": "display_data"
    }
   ],
   "source": [
    "mean_df = df.groupby([\"ticker\",\"date\"]).mean()\n",
    "mean_df = mean_df.unstack()\n",
    "mean_df = mean_df.xs(\"compound\",axis=\"columns\").transpose()\n",
    "mean_df.plot(kind=\"bar\",title=\"XYZ\",ylabel=\"compound\",xlabel=\"date\",figsize=(10,10))\n",
    "plt.show"
   ]
  },
  {
   "cell_type": "code",
   "execution_count": 32,
   "id": "0ec99c18",
   "metadata": {
    "scrolled": true
   },
   "outputs": [
    {
     "data": {
      "text/plain": [
       "<function matplotlib.pyplot.show(close=None, block=None)>"
      ]
     },
     "execution_count": 32,
     "metadata": {},
     "output_type": "execute_result"
    },
    {
     "data": {
      "image/png": "[encoded data removed]",
      "text/plain": [
       "<Figure size 360x360 with 1 Axes>"
      ]
     },
     "metadata": {
      "needs_background": "light"
     },
     "output_type": "display_data"
    }
   ],
   "source": [
    "mean_df = df.groupby([\"ticker\",\"month\"]).mean()\n",
    "mean_df = mean_df.unstack()\n",
    "mean_df = mean_df.xs(\"compound\",axis=\"columns\").transpose()\n",
    "mean_df.plot(kind=\"bar\",title=\"XYZ\",ylabel=\"compound\",xlabel=\"month\",figsize=(5,5))\n",
    "plt.show"
   ]
  },
  {
   "cell_type": "code",
   "execution_count": 33,
   "id": "47dc80bf",
   "metadata": {},
   "outputs": [
    {
     "data": {
      "text/plain": [
       "<function matplotlib.pyplot.show(close=None, block=None)>"
      ]
     },
     "execution_count": 33,
     "metadata": {},
     "output_type": "execute_result"
    },
    {
     "data": {
      "image/png": "[encoded data removed]",
      "text/plain": [
       "<Figure size 360x360 with 1 Axes>"
      ]
     },
     "metadata": {
      "needs_background": "light"
     },
     "output_type": "display_data"
    }
   ],
   "source": [
    "mean_df = df.groupby([\"ticker\",\"year\"]).mean()\n",
    "mean_df = mean_df.unstack()\n",
    "mean_df = mean_df.xs(\"compound\",axis=\"columns\").transpose()\n",
    "mean_df.plot(kind=\"bar\",title=\"XYZ\",ylabel=\"compound\",xlabel=\"year\",figsize=(5,5))\n",
    "plt.show"
   ]
  },
  {
   "cell_type": "code",
   "execution_count": 17,
   "id": "065d716a",
   "metadata": {},
   "outputs": [
    {
     "data": {
      "text/html": [
       "<div>\n",
       "<style scoped>\n",
       "    .dataframe tbody tr th:only-of-type {\n",
       "        vertical-align: middle;\n",
       "    }\n",
       "\n",
       "    .dataframe tbody tr th {\n",
       "        vertical-align: top;\n",
       "    }\n",
       "\n",
       "    .dataframe thead th {\n",
       "        text-align: right;\n",
       "    }\n",
       "</style>\n",
       "<table border=\"1\" class=\"dataframe\">\n",
       "  <thead>\n",
       "    <tr style=\"text-align: right;\">\n",
       "      <th>ticker</th>\n",
       "      <th>INFY</th>\n",
       "      <th>TTM</th>\n",
       "      <th>WIT</th>\n",
       "    </tr>\n",
       "    <tr>\n",
       "      <th>date</th>\n",
       "      <th></th>\n",
       "      <th></th>\n",
       "      <th></th>\n",
       "    </tr>\n",
       "  </thead>\n",
       "  <tbody>\n",
       "    <tr>\n",
       "      <th>2021-03-23</th>\n",
       "      <td>NaN</td>\n",
       "      <td>0.000000</td>\n",
       "      <td>NaN</td>\n",
       "    </tr>\n",
       "    <tr>\n",
       "      <th>2021-04-08</th>\n",
       "      <td>NaN</td>\n",
       "      <td>0.128000</td>\n",
       "      <td>NaN</td>\n",
       "    </tr>\n",
       "    <tr>\n",
       "      <th>2021-04-12</th>\n",
       "      <td>NaN</td>\n",
       "      <td>0.000000</td>\n",
       "      <td>NaN</td>\n",
       "    </tr>\n",
       "    <tr>\n",
       "      <th>2021-04-19</th>\n",
       "      <td>NaN</td>\n",
       "      <td>0.000000</td>\n",
       "      <td>NaN</td>\n",
       "    </tr>\n",
       "    <tr>\n",
       "      <th>2021-04-21</th>\n",
       "      <td>NaN</td>\n",
       "      <td>-0.458800</td>\n",
       "      <td>NaN</td>\n",
       "    </tr>\n",
       "    <tr>\n",
       "      <th>...</th>\n",
       "      <td>...</td>\n",
       "      <td>...</td>\n",
       "      <td>...</td>\n",
       "    </tr>\n",
       "    <tr>\n",
       "      <th>2022-05-10</th>\n",
       "      <td>NaN</td>\n",
       "      <td>NaN</td>\n",
       "      <td>0.4019</td>\n",
       "    </tr>\n",
       "    <tr>\n",
       "      <th>2022-05-11</th>\n",
       "      <td>NaN</td>\n",
       "      <td>0.000000</td>\n",
       "      <td>0.6486</td>\n",
       "    </tr>\n",
       "    <tr>\n",
       "      <th>2022-05-12</th>\n",
       "      <td>NaN</td>\n",
       "      <td>-0.051600</td>\n",
       "      <td>NaN</td>\n",
       "    </tr>\n",
       "    <tr>\n",
       "      <th>2022-05-13</th>\n",
       "      <td>NaN</td>\n",
       "      <td>-0.109633</td>\n",
       "      <td>NaN</td>\n",
       "    </tr>\n",
       "    <tr>\n",
       "      <th>2022-05-19</th>\n",
       "      <td>0.00425</td>\n",
       "      <td>NaN</td>\n",
       "      <td>NaN</td>\n",
       "    </tr>\n",
       "  </tbody>\n",
       "</table>\n",
       "<p>150 rows × 3 columns</p>\n",
       "</div>"
      ],
      "text/plain": [
       "ticker         INFY       TTM     WIT\n",
       "date                                 \n",
       "2021-03-23      NaN  0.000000     NaN\n",
       "2021-04-08      NaN  0.128000     NaN\n",
       "2021-04-12      NaN  0.000000     NaN\n",
       "2021-04-19      NaN  0.000000     NaN\n",
       "2021-04-21      NaN -0.458800     NaN\n",
       "...             ...       ...     ...\n",
       "2022-05-10      NaN       NaN  0.4019\n",
       "2022-05-11      NaN  0.000000  0.6486\n",
       "2022-05-12      NaN -0.051600     NaN\n",
       "2022-05-13      NaN -0.109633     NaN\n",
       "2022-05-19  0.00425       NaN     NaN\n",
       "\n",
       "[150 rows x 3 columns]"
      ]
     },
     "execution_count": 17,
     "metadata": {},
     "output_type": "execute_result"
    }
   ],
   "source": [
    "mean_df"
   ]
  },
  {
   "cell_type": "code",
   "execution_count": null,
   "id": "42670110",
   "metadata": {},
   "outputs": [],
   "source": []
  }
 ],
 "metadata": {
  "kernelspec": {
   "display_name": "Python 3 (ipykernel)",
   "language": "python",
   "name": "python3"
  },
  "language_info": {
   "codemirror_mode": {
    "name": "ipython",
    "version": 3
   },
   "file_extension": ".py",
   "mimetype": "text/x-python",
   "name": "python",
   "nbconvert_exporter": "python",
   "pygments_lexer": "ipython3",
   "version": "3.9.7"
  }
 },
 "nbformat": 4,
 "nbformat_minor": 5
}
